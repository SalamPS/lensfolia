{
 "cells": [
  {
   "cell_type": "code",
   "execution_count": 73,
   "id": "06ecd4fe",
   "metadata": {},
   "outputs": [
    {
     "data": {
      "text/plain": [
       "True"
      ]
     },
     "execution_count": 73,
     "metadata": {},
     "output_type": "execute_result"
    }
   ],
   "source": [
    "from pathlib import Path\n",
    "from langchain.schema import Document\n",
    "from langchain_qdrant import QdrantVectorStore\n",
    "from langchain_community.document_loaders import TextLoader\n",
    "from langchain.text_splitter import MarkdownHeaderTextSplitter\n",
    "from qdrant_client import QdrantClient\n",
    "from langchain_google_genai import GoogleGenerativeAIEmbeddings\n",
    "from dotenv import load_dotenv\n",
    "import os\n",
    "\n",
    "load_dotenv()"
   ]
  },
  {
   "cell_type": "code",
   "execution_count": 74,
   "id": "1d620967",
   "metadata": {},
   "outputs": [],
   "source": [
    "class Config:\n",
    "    GOOGLE_API_KEY = os.getenv(\"GOOGLE_API_KEY\") \n",
    "    QDRANT_URL = \"http://localhost:6333\"  \n",
    "    PRODUCT_COLLECTION_NAME = \"lensfolia_collection\"\n",
    "    EMBEDDING_MODEL = \"models/gemini-embedding-001\"\n",
    "    LLM_MODEL = \"gemini-2.5-flash\""
   ]
  },
  {
   "cell_type": "code",
   "execution_count": 75,
   "id": "a68a4a2e",
   "metadata": {},
   "outputs": [],
   "source": [
    "all_docs = []"
   ]
  },
  {
   "cell_type": "code",
   "execution_count": 76,
   "id": "140d14dd",
   "metadata": {},
   "outputs": [],
   "source": [
    "docs_path = Path(\"knowledge_base/products/\")\n",
    "existing_files = {f.name for f in docs_path.glob(\"*.md\")}"
   ]
  },
  {
   "cell_type": "code",
   "execution_count": 77,
   "id": "88a88873",
   "metadata": {},
   "outputs": [],
   "source": [
    "if not existing_files:\n",
    "    raise FileNotFoundError(f\"Missing required documents: {existing_files}\")"
   ]
  },
  {
   "cell_type": "code",
   "execution_count": 78,
   "id": "27c866b3",
   "metadata": {},
   "outputs": [],
   "source": [
    "for file_path in docs_path.glob(\"*.md\"):\n",
    "    group = file_path.stem  \n",
    "    loader = TextLoader(str(file_path))\n",
    "    doc = loader.load()[0]\n",
    "\n",
    "    splitter = MarkdownHeaderTextSplitter(headers_to_split_on=[(\"#\", \"product_name\")])\n",
    "    product_docs = splitter.split_text(doc.page_content)\n",
    "\n",
    "    for pd in product_docs:\n",
    "        all_docs.append(\n",
    "            Document(\n",
    "                page_content=pd.page_content,\n",
    "                metadata={\n",
    "                    \"doc_type\": \"product\",\n",
    "                    \"product_name\": pd.metadata[\"product_name\"],\n",
    "                    \"group\": group\n",
    "                }\n",
    "            )\n",
    "        )"
   ]
  },
  {
   "cell_type": "code",
   "execution_count": 79,
   "id": "68206786",
   "metadata": {},
   "outputs": [
    {
     "name": "stdout",
     "output_type": "stream",
     "text": [
      "Total documents loaded: 1484\n",
      "\n",
      "Document types:\n",
      "Products: 56\n",
      "Plant info: 1428\n"
     ]
    }
   ],
   "source": [
    "plants_path = Path(\"knowledge_base/plants/plants.md\")\n",
    "\n",
    "if plants_path.exists():\n",
    "    loader = TextLoader(str(plants_path))\n",
    "    plants_doc = loader.load()[0]\n",
    "    \n",
    "    # Split by plant (h1) and sections (h2, h3, h4)\n",
    "    splitter = MarkdownHeaderTextSplitter(\n",
    "        headers_to_split_on=[\n",
    "            (\"#\", \"plant_name\"),\n",
    "            (\"##\", \"section\"),\n",
    "            (\"###\", \"subsection\"),\n",
    "            (\"####\", \"disease_name\")\n",
    "        ]\n",
    "    )\n",
    "    plant_chunks = splitter.split_text(plants_doc.page_content)\n",
    "    \n",
    "    for chunk in plant_chunks:\n",
    "        # Skip empty content chunks\n",
    "        if not chunk.page_content.strip():\n",
    "            continue\n",
    "            \n",
    "        # Extract metadata\n",
    "        plant_name = chunk.metadata.get(\"plant_name\", \"Unknown\").lower()\n",
    "        section = chunk.metadata.get(\"section\", \"General\")\n",
    "        subsection = chunk.metadata.get(\"subsection\", \"\")\n",
    "        disease_name = chunk.metadata.get(\"disease_name\", \"\")\n",
    "        \n",
    "        # Create meaningful section identifier\n",
    "        section_id = section\n",
    "        if subsection:\n",
    "            section_id = f\"{section} - {subsection}\"\n",
    "        if disease_name:\n",
    "            section_id = f\"{section} - {disease_name}\"\n",
    "        \n",
    "        all_docs.append(\n",
    "            Document(\n",
    "                page_content=chunk.page_content,\n",
    "                metadata={\n",
    "                    \"doc_type\": \"plant_info\",\n",
    "                    \"plant_name\": plant_name,\n",
    "                    \"section\": section_id,\n",
    "                    \"content_type\": section.lower().replace(\" \", \"_\")\n",
    "                }\n",
    "            )\n",
    "        )\n",
    "\n",
    "# %%\n",
    "print(f\"Total documents loaded: {len(all_docs)}\")\n",
    "print(\"\\nDocument types:\")\n",
    "products = [d for d in all_docs if d.metadata[\"doc_type\"] == \"product\"]\n",
    "plants = [d for d in all_docs if d.metadata[\"doc_type\"] == \"plant_info\"]\n",
    "print(f\"Products: {len(products)}\")\n",
    "print(f\"Plant info: {len(plants)}\")"
   ]
  },
  {
   "cell_type": "code",
   "execution_count": 80,
   "id": "2ff754cd",
   "metadata": {},
   "outputs": [],
   "source": [
    "qdrant_client = QdrantClient(url=Config.QDRANT_URL)\n",
    "embeddings = GoogleGenerativeAIEmbeddings(\n",
    "    api_key=Config.GOOGLE_API_KEY,\n",
    "    model=Config.EMBEDDING_MODEL\n",
    ")"
   ]
  },
  {
   "cell_type": "code",
   "execution_count": 81,
   "id": "d7016e02",
   "metadata": {},
   "outputs": [],
   "source": [
    "vector_store = QdrantVectorStore.from_documents(\n",
    "    all_docs,\n",
    "    embeddings,\n",
    "    url=Config.QDRANT_URL,\n",
    "    collection_name=Config.PRODUCT_COLLECTION_NAME,\n",
    "    force_recreate=True\n",
    ")"
   ]
  },
  {
   "cell_type": "code",
   "execution_count": 82,
   "id": "8ea9e07d",
   "metadata": {},
   "outputs": [],
   "source": [
    "retriever = vector_store.as_retriever(\n",
    "    search_type=\"similarity\",\n",
    "    search_kwargs={\"k\": 3}  \n",
    ")"
   ]
  },
  {
   "cell_type": "code",
   "execution_count": 83,
   "id": "d9b9228b",
   "metadata": {},
   "outputs": [],
   "source": [
    "test_queries = [\n",
    "    \"apple leaf spot disease symptoms\",  \n",
    "]\n"
   ]
  },
  {
   "cell_type": "code",
   "execution_count": 84,
   "id": "9f1bf6e5",
   "metadata": {},
   "outputs": [
    {
     "name": "stdout",
     "output_type": "stream",
     "text": [
      "\n",
      "============================================================\n",
      "Query: apple leaf spot disease symptoms\n",
      "============================================================\n",
      "\n",
      "Result 1 (plant_info):\n",
      "Plant: cherry (including sour)\n",
      "Section: Common Pests and Diseases - Cherry leaf spot Coccomyces hiemalis\n",
      "Content: - Symptoms: Small, red-purple spots on upper surfaces of leaves which turn brown and may\n",
      "coalesce; leaves may become chlorotic if there are a few lesions present; if\n",
      "tree becomes severely defoliated fruit may fail to develop properly and remain\n",
      "light in color and watery in texture  \n",
      "- Cause: Fungus ...\n",
      "\n",
      "Result 2 (plant_info):\n",
      "Plant: cashew nuts\n",
      "Section: Common Pests and Diseases - Anthracnose Colletotrichum gloeosporoides\n",
      "Content: - Symptoms: Water-soaked lesions on leaves, twigs, flowers or young apples which develop\n",
      "into orange-brown or red lesions;  \n",
      "- Cause: Fungus  \n",
      "- Comments: Disease emergence favored by rainfall and high humidity  \n",
      "- Management: Management A protective coating of copper-based fungicide on susceptible ...\n",
      "\n",
      "Result 3 (plant_info):\n",
      "Plant: quince\n",
      "Section: Common Pests and Diseases - Leaf blight (Leaf fleck) Diplocarpon maculatum\n",
      "Content: - Symptoms: Dark red spots on leaves; brown spots on leaves; leaves dropping from plant;\n",
      "small, raised purple spots with white centre on leaves; dark brown spots on\n",
      "leaves; no fruit produced; tree defoliation  \n",
      "- Cause: Fungus  \n",
      "- Comments: Fungus survives on plant debris  \n",
      "- Management: Management ...\n"
     ]
    }
   ],
   "source": [
    "for query in test_queries:\n",
    "    print(f\"\\n{'='*60}\")\n",
    "    print(f\"Query: {query}\")\n",
    "    print(f\"{'='*60}\")\n",
    "    \n",
    "    results = retriever.get_relevant_documents(query)\n",
    "    \n",
    "    for i, doc in enumerate(results, 1):\n",
    "        doc_type = doc.metadata['doc_type']\n",
    "        print(f\"\\nResult {i} ({doc_type}):\")\n",
    "        \n",
    "        if doc_type == \"product\":\n",
    "            print(f\"Product: {doc.metadata['product_name']}\")\n",
    "            print(f\"Group: {doc.metadata['group']}\")\n",
    "        else:\n",
    "            print(f\"Plant: {doc.metadata['plant_name']}\")\n",
    "            print(f\"Section: {doc.metadata['section']}\")\n",
    "        \n",
    "        print(f\"Content: {doc.page_content[:300]}...\")"
   ]
  },
  {
   "cell_type": "code",
   "execution_count": 85,
   "id": "999df8ea",
   "metadata": {},
   "outputs": [],
   "source": [
    "def search_plant_info(query, k=3):\n",
    "    \"\"\"Search plant information only\"\"\"\n",
    "    from qdrant_client.http import models\n",
    "    filter_condition = models.Filter(\n",
    "        must=[\n",
    "            models.FieldCondition(\n",
    "                key=\"metadata.doc_type\",\n",
    "                match=models.MatchValue(value=\"plant_info\")\n",
    "            )\n",
    "        ]\n",
    "    )\n",
    "    return vector_store.similarity_search(query, filter=filter_condition, k=k)\n",
    "\n",
    "def search_products(query, k=3):\n",
    "    \"\"\"Search products only\"\"\"\n",
    "    from qdrant_client.http import models\n",
    "    filter_condition = models.Filter(\n",
    "        must=[\n",
    "            models.FieldCondition(\n",
    "                key=\"metadata.doc_type\",\n",
    "                match=models.MatchValue(value=\"product\")\n",
    "            )\n",
    "        ]\n",
    "    )\n",
    "    return vector_store.similarity_search(query, filter=filter_condition, k=k)\n",
    "\n",
    "def search_disease_info(query, plant_name=None, k=3):\n",
    "    \"\"\"Search disease-specific info\"\"\"\n",
    "    from qdrant_client.http import models\n",
    "    must_conditions = [\n",
    "        models.FieldCondition(\n",
    "            key=\"metadata.doc_type\",\n",
    "            match=models.MatchValue(value=\"plant_info\")\n",
    "        )\n",
    "    ]\n",
    "    \n",
    "    if plant_name:\n",
    "        must_conditions.append(\n",
    "            models.FieldCondition(\n",
    "                key=\"metadata.plant_name\",\n",
    "                match=models.MatchValue(value=plant_name)\n",
    "            )\n",
    "        )\n",
    "    \n",
    "    filter_condition = models.Filter(must=must_conditions)\n",
    "    return vector_store.similarity_search(query, filter=filter_condition, k=k)"
   ]
  },
  {
   "cell_type": "code",
   "execution_count": 86,
   "id": "2fa537ee",
   "metadata": {},
   "outputs": [
    {
     "name": "stdout",
     "output_type": "stream",
     "text": [
      "\n",
      "Agent 2 - Plant disease info for apple leaf spot:\n",
      "Plant: apple\n",
      "Content: - Symptoms: Bright orange or yellow patches on top side of leaves surrounded by a red band\n",
      "and small black spots in the center; by mid-summer, cup-like structures called\n",
      "aecia form on the leaf undersides; these become covered in tubular structures\n",
      "from which spores are released.  \n",
      "- Cause: Fungus  \n",
      "- Comments: Fungus requires two hosts to complete lifecycle; forms galls on Eastern red\n",
      "cedar and sp...\n",
      "\n",
      "Agent 3 - Product recommendations for leaf spot:\n",
      "Product: SCORPIO 250 EC\n",
      "Group: fungisida\n",
      "Content: ![Image of product: SCORPIO 250 EC](https://kresna.co.id/sarikresnakimia/wp-content/uploads/2014/11/SCORPIO-1000x1000-360x360.png)  \n",
      "**Bahan Aktif:** Difenokonazol 250 g/l  \n",
      "**Deskripsi:** Fungisida sistemik berbentuk pekatan emulsi berwarna kuning bening untuk mengendalikan penyakit bercak daun ( Cercospora sp. ) penyakit busuk apih ( Rhizoctania Solani ) pada tanaman padi penyakit bercak daun ( ...\n"
     ]
    }
   ],
   "source": [
    "# Agent 1 output simulation: \"apple leaf spot detected\"\n",
    "detected_plant = \"apple\"\n",
    "detected_disease = \"leaf spot\"\n",
    "\n",
    "# Agent 2: Get plant disease info\n",
    "print(f\"\\nAgent 2 - Plant disease info for {detected_plant} {detected_disease}:\")\n",
    "plant_results = search_disease_info(f\"{detected_plant} {detected_disease}\", detected_plant)\n",
    "for doc in plant_results[:1]:\n",
    "    print(f\"Plant: {doc.metadata['plant_name']}\")\n",
    "    print(f\"Content: {doc.page_content[:400]}...\")\n",
    "\n",
    "# Agent 3: Get product recommendations\n",
    "print(f\"\\nAgent 3 - Product recommendations for {detected_disease}:\")\n",
    "product_results = search_products(f\"fungicide {detected_disease}\")\n",
    "for doc in product_results[:1]:\n",
    "    print(f\"Product: {doc.metadata['product_name']}\")\n",
    "    print(f\"Group: {doc.metadata['group']}\")\n",
    "    print(f\"Content: {doc.page_content[:400]}...\")"
   ]
  }
 ],
 "metadata": {
  "kernelspec": {
   "display_name": ".lensfolia-research-venv",
   "language": "python",
   "name": "python3"
  },
  "language_info": {
   "codemirror_mode": {
    "name": "ipython",
    "version": 3
   },
   "file_extension": ".py",
   "mimetype": "text/x-python",
   "name": "python",
   "nbconvert_exporter": "python",
   "pygments_lexer": "ipython3",
   "version": "3.11.11"
  }
 },
 "nbformat": 4,
 "nbformat_minor": 5
}
